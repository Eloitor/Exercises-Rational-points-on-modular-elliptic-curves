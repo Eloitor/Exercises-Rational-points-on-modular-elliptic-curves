{
 "cells": [
  {
   "cell_type": "code",
   "execution_count": 2,
   "metadata": {},
   "outputs": [],
   "source": [
    "# Grup structure p-adic field"
   ]
  },
  {
   "cell_type": "code",
   "execution_count": 3,
   "metadata": {},
   "outputs": [
    {
     "data": {
      "text/plain": [
       "Elliptic Curve defined by y^2 + x*y + y = x^3 + 4*x - 6 over Rational Field"
      ]
     },
     "execution_count": 3,
     "metadata": {},
     "output_type": "execute_result"
    }
   ],
   "source": [
    "E = EllipticCurve('14.a6'); E"
   ]
  },
  {
   "cell_type": "code",
   "execution_count": 6,
   "metadata": {},
   "outputs": [
    {
     "data": {
      "text/plain": [
       "False"
      ]
     },
     "execution_count": 6,
     "metadata": {},
     "output_type": "execute_result"
    }
   ],
   "source": [
    "E.has_good_reduction(7)"
   ]
  },
  {
   "cell_type": "code",
   "execution_count": 7,
   "metadata": {},
   "outputs": [
    {
     "data": {
      "text/plain": [
       "True"
      ]
     },
     "execution_count": 7,
     "metadata": {},
     "output_type": "execute_result"
    }
   ],
   "source": [
    "E.has_multiplicative_reduction(7)"
   ]
  },
  {
   "cell_type": "code",
   "execution_count": 8,
   "metadata": {},
   "outputs": [
    {
     "data": {
      "text/plain": [
       "True"
      ]
     },
     "execution_count": 8,
     "metadata": {},
     "output_type": "execute_result"
    }
   ],
   "source": [
    "E.has_multiplicative_reduction(2)"
   ]
  },
  {
   "cell_type": "code",
   "execution_count": 33,
   "metadata": {},
   "outputs": [],
   "source": [
    "eq = E.tate_curve(7)"
   ]
  },
  {
   "cell_type": "code",
   "execution_count": 37,
   "metadata": {},
   "outputs": [
    {
     "data": {
      "text/plain": [
       "6*7^3 + 4*7^4 + 6*7^5 + 7^6 + 3*7^7 + 6*7^8 + 4*7^9 + 5*7^11 + 2*7^12 + 2*7^13 + 4*7^14 + 2*7^15 + 6*7^16 + 6*7^17 + 2*7^18 + 6*7^19 + 2*7^20 + 6*7^22 + 4*7^23 + 7^24 + 4*7^25 + 2*7^26 + 5*7^27 + 6*7^28 + 4*7^30 + 3*7^31 + 7^32 + 4*7^33 + 4*7^34 + 7^36 + 4*7^37 + 7^38 + 5*7^40 + 6*7^41 + 7^43 + 7^45 + 4*7^46 + 6*7^47 + 4*7^48 + 3*7^49 + 5*7^51 + 3*7^52 + O(7^53)"
      ]
     },
     "execution_count": 37,
     "metadata": {},
     "output_type": "execute_result"
    }
   ],
   "source": [
    "q = eq.parameter(prec = 50); q"
   ]
  },
  {
   "cell_type": "code",
   "execution_count": 38,
   "metadata": {},
   "outputs": [],
   "source": [
    "q = eq.parameter()"
   ]
  },
  {
   "cell_type": "code",
   "execution_count": 39,
   "metadata": {},
   "outputs": [],
   "source": [
    "def s(k, q, prec = 10):\n",
    "    return sum(n**k * q**n / (1-q**n) for n in range(1, prec))\n",
    "\n",
    "def a4(q, prec = 10):\n",
    "    return -s(3, q, prec)\n",
    "\n",
    "def a6(q, prec = 10):\n",
    "    return (-5*s(3, q, prec) + 7*s(5, q, prec)) / 12\n",
    "    "
   ]
  },
  {
   "cell_type": "code",
   "execution_count": 41,
   "metadata": {},
   "outputs": [
    {
     "data": {
      "text/plain": [
       "7^3 + 2*7^4 + 3*7^6 + 7^7 + 7^8 + 4*7^9 + 2*7^11 + 2*7^12 + 6*7^13 + 2*7^14 + 4*7^15 + 3*7^16 + 3*7^17 + 6*7^18 + 2*7^19 + 7^20 + 4*7^21 + 7^22 + O(7^23)"
      ]
     },
     "execution_count": 41,
     "metadata": {},
     "output_type": "execute_result"
    }
   ],
   "source": [
    "a4(q,1000)"
   ]
  },
  {
   "cell_type": "code",
   "execution_count": 42,
   "metadata": {},
   "outputs": [
    {
     "data": {
      "text/plain": [
       "7^3 + 3*7^4 + 3*7^5 + 6*7^6 + 2*7^7 + 3*7^8 + 7^9 + 3*7^10 + 2*7^11 + 2*7^13 + 2*7^14 + 4*7^16 + 2*7^17 + 4*7^18 + 7^19 + 3*7^22 + O(7^23)"
      ]
     },
     "execution_count": 42,
     "metadata": {},
     "output_type": "execute_result"
    }
   ],
   "source": [
    "a6(q)"
   ]
  },
  {
   "cell_type": "code",
   "execution_count": 27,
   "metadata": {},
   "outputs": [
    {
     "data": {
      "text/plain": [
       "Elliptic Curve defined by y^2 + (1+O(7^20))*x*y = x^3 + (5*7^3+3*7^4+7^5+7^6+6*7^8+6*7^9+2*7^10+3*7^11+4*7^12+3*7^13+7^15+4*7^16+3*7^17+4*7^18+7^22+O(7^23))*x + (7^3+2*7^4+3*7^6+6*7^7+6*7^8+7^9+4*7^10+7^11+6*7^12+7^15+5*7^17+5*7^18+2*7^20+2*7^21+5*7^22+O(7^23)) over 7-adic Field with capped relative precision 20"
      ]
     },
     "execution_count": 27,
     "metadata": {},
     "output_type": "execute_result"
    }
   ],
   "source": [
    "eq.curve()"
   ]
  },
  {
   "cell_type": "markdown",
   "metadata": {},
   "source": [
    "In theory the equation of $E_q$ should be:\n",
    "$$\n",
    "E_q: y^2 +xy = x^3 + a_4(q)x + a_6(q)\n",
    "$$"
   ]
  },
  {
   "cell_type": "markdown",
   "metadata": {},
   "source": []
  },
  {
   "cell_type": "code",
   "execution_count": 58,
   "metadata": {},
   "outputs": [],
   "source": [
    "def TateUniformizer(E, u, prec = 10):\n",
    "    q = E.tate_curve(p, prec).parameter()\n",
    "    x = sum(q^n * u / (1- (q^n*u)) for n in range(1, prec)) - 2*s(1, q, prec)\n",
    "    y = sum(q^n * u^2 / (1- (q^n*u) )^3 for n in range(1, prec)) - s(1, q, prec)\n",
    "    return (x,y)"
   ]
  }
 ],
 "metadata": {
  "interpreter": {
   "hash": "767d51c1340bd893661ea55ea3124f6de3c7a262a8b4abca0554b478b1e2ff90"
  },
  "kernelspec": {
   "display_name": "SageMath 9.4",
   "language": "sage",
   "name": "sagemath"
  },
  "language_info": {
   "codemirror_mode": {
    "name": "ipython",
    "version": 3
   },
   "file_extension": ".py",
   "mimetype": "text/x-python",
   "name": "python",
   "nbconvert_exporter": "python",
   "pygments_lexer": "ipython3",
   "version": "3.9.7"
  },
  "orig_nbformat": 4
 },
 "nbformat": 4,
 "nbformat_minor": 2
}
